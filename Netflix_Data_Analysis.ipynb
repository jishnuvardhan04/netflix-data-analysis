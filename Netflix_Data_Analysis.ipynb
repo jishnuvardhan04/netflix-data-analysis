{
 "cells": [
  {
   "cell_type": "markdown",
   "id": "68d2ad52",
   "metadata": {},
   "source": [
    "# Netflix Data Analysis\n",
    "This project analyzes a dataset of Netflix titles to uncover trends in content production, country contributions, content duration, and more.\n",
    "\n",
    "**Goals:**\n",
    "- Analyze when Netflix adds new content\n",
    "- Discover top content-producing countries\n",
    "- Explore movie duration trends\n",
    "- Visualize popular genres and words in descriptions"
   ]
  },
  {
   "cell_type": "code",
   "execution_count": null,
   "id": "21f5b2ac",
   "metadata": {},
   "outputs": [],
   "source": [
    "import pandas as pd\n",
    "import matplotlib.pyplot as plt\n",
    "import seaborn as sns\n",
    "from wordcloud import WordCloud, STOPWORDS\n",
    "\n",
    "%matplotlib inline"
   ]
  },
  {
   "cell_type": "code",
   "execution_count": null,
   "id": "1307dff4",
   "metadata": {},
   "outputs": [],
   "source": [
    "# Load the CSV file\n",
    "df = pd.read_csv('netflix_titles.csv')\n",
    "df.head()"
   ]
  },
  {
   "cell_type": "code",
   "execution_count": null,
   "id": "48bf0f0c",
   "metadata": {},
   "outputs": [],
   "source": [
    "# Convert 'date_added' to datetime and extract year\n",
    "df['date_added'] = pd.to_datetime(df['date_added'])\n",
    "df = df.dropna(subset=['date_added'])\n",
    "df['year_added'] = df['date_added'].dt.year\n",
    "df = df[(df['year_added'] >= 2008) & (df['year_added'] <= 2025)]"
   ]
  },
  {
   "cell_type": "code",
   "execution_count": null,
   "id": "3e9f8f1a",
   "metadata": {},
   "outputs": [],
   "source": [
    "plt.figure(figsize=(10,6))\n",
    "sns.countplot(data=df, x='year_added', hue='type', palette='Set2')\n",
    "plt.title('Content Added to Netflix Each Year')\n",
    "plt.xlabel('Year')\n",
    "plt.ylabel('Number of Titles')\n",
    "plt.xticks(rotation=45)\n",
    "plt.tight_layout()\n",
    "plt.show()"
   ]
  },
  {
   "cell_type": "code",
   "execution_count": null,
   "id": "724586cc",
   "metadata": {},
   "outputs": [],
   "source": [
    "# Clean and analyze country data\n",
    "df_country = df.dropna(subset=['country'])\n",
    "df_country = df_country.assign(country=df_country['country'].str.split(', '))\n",
    "df_country = df_country.explode('country')\n",
    "df_country = df_country[df_country['country'].str.strip().str.lower() != 'unknown']\n",
    "df_country = df_country[df_country['country'].str.strip() != '']\n",
    "top_countries = df_country['country'].value_counts().head(10)\n",
    "\n",
    "plt.figure(figsize=(10,6))\n",
    "sns.barplot(x=top_countries.values, y=top_countries.index, palette='Set3')\n",
    "plt.title('Top 10 Countries Producing Netflix Content')\n",
    "plt.xlabel('Number of Titles')\n",
    "plt.ylabel('Country')\n",
    "plt.tight_layout()\n",
    "plt.show()"
   ]
  },
  {
   "cell_type": "code",
   "execution_count": null,
   "id": "00caeaea",
   "metadata": {},
   "outputs": [],
   "source": [
    "# Filter only movies and clean duration\n",
    "movies = df[df['type'] == 'Movie']\n",
    "movies = movies.dropna(subset=['duration'])\n",
    "movies['duration_minutes'] = movies['duration'].str.extract('(\\d+)').astype(int)\n",
    "\n",
    "plt.figure(figsize=(10,6))\n",
    "sns.histplot(movies['duration_minutes'], bins=30, kde=True, color='skyblue')\n",
    "plt.title('Distribution of Movie Durations on Netflix')\n",
    "plt.xlabel('Duration (minutes)')\n",
    "plt.ylabel('Number of Movies')\n",
    "plt.tight_layout()\n",
    "plt.show()"
   ]
  },
  {
   "cell_type": "code",
   "execution_count": null,
   "id": "3a8fdf33",
   "metadata": {},
   "outputs": [],
   "source": [
    "# Top genres\n",
    "df_genres = df.dropna(subset=['listed_in'])\n",
    "df_genres = df_genres.assign(listed_in=df_genres['listed_in'].str.split(', '))\n",
    "df_genres = df_genres.explode('listed_in')\n",
    "top_genres = df_genres['listed_in'].value_counts().head(10)\n",
    "\n",
    "plt.figure(figsize=(10,6))\n",
    "sns.barplot(x=top_genres.values, y=top_genres.index, palette='coolwarm')\n",
    "plt.title('Top 10 Genres on Netflix')\n",
    "plt.xlabel('Number of Titles')\n",
    "plt.ylabel('Genre')\n",
    "plt.tight_layout()\n",
    "plt.show()"
   ]
  },
  {
   "cell_type": "code",
   "execution_count": null,
   "id": "8a347914",
   "metadata": {},
   "outputs": [],
   "source": [
    "# Word cloud from descriptions\n",
    "text = ' '.join(df['description'].dropna())\n",
    "stopwords = set(STOPWORDS)\n",
    "wordcloud = WordCloud(width=800, height=400, background_color='white',\n",
    "                      stopwords=stopwords, colormap='inferno').generate(text)\n",
    "\n",
    "plt.figure(figsize=(12,6))\n",
    "plt.imshow(wordcloud, interpolation='bilinear')\n",
    "plt.axis('off')\n",
    "plt.title('Most Common Words in Netflix Descriptions')\n",
    "plt.tight_layout()\n",
    "plt.show()"
   ]
  }
 ],
 "metadata": {},
 "nbformat": 4,
 "nbformat_minor": 5
}
